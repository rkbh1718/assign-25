{
 "cells": [
  {
   "cell_type": "markdown",
   "id": "c5607a56",
   "metadata": {},
   "source": [
    "# 1) . What is the difference between enclosing a list comprehension in square brackets and parentheses?"
   ]
  },
  {
   "cell_type": "code",
   "execution_count": null,
   "id": "4dfd7a0a",
   "metadata": {},
   "outputs": [],
   "source": [
    " square brackets  is used for list representation and parentheses is used for tuple?"
   ]
  },
  {
   "cell_type": "markdown",
   "id": "fa238c13",
   "metadata": {},
   "source": [
    "# 2) What is the relationship between generators and iterators?"
   ]
  },
  {
   "cell_type": "code",
   "execution_count": null,
   "id": "a4b117cc",
   "metadata": {},
   "outputs": [],
   "source": [
    "every generator is an iterator but not viceversa"
   ]
  },
  {
   "cell_type": "markdown",
   "id": "722fb5f1",
   "metadata": {},
   "source": [
    "# 3) What are the signs that a function is a generator function?"
   ]
  },
  {
   "cell_type": "code",
   "execution_count": null,
   "id": "98dd1e6e",
   "metadata": {},
   "outputs": [],
   "source": [
    "If a function contains at least one yield statement"
   ]
  },
  {
   "cell_type": "markdown",
   "id": "8fd4e778",
   "metadata": {},
   "source": [
    "# 4) What is the purpose of a yield statement?"
   ]
  },
  {
   "cell_type": "code",
   "execution_count": null,
   "id": "71874990",
   "metadata": {},
   "outputs": [],
   "source": [
    "yield statement looks much like a return statement, except that instead of stopping execution of the function and returning, yield instead provides a value to the code looping over the generator and pauses execution of the generator function."
   ]
  },
  {
   "cell_type": "markdown",
   "id": "ba0689a7",
   "metadata": {},
   "source": [
    "# 5) What is the relationship between map calls and list comprehensions? Make a comparison and contrast between the two."
   ]
  },
  {
   "cell_type": "code",
   "execution_count": null,
   "id": "1e423d2c",
   "metadata": {},
   "outputs": [],
   "source": [
    "List comprehension is more concise and easier to read as compared to map. List comprehension are used when a list of results is required as map only returns a map object and does not return any list."
   ]
  }
 ],
 "metadata": {
  "kernelspec": {
   "display_name": "Python 3",
   "language": "python",
   "name": "python3"
  },
  "language_info": {
   "codemirror_mode": {
    "name": "ipython",
    "version": 3
   },
   "file_extension": ".py",
   "mimetype": "text/x-python",
   "name": "python",
   "nbconvert_exporter": "python",
   "pygments_lexer": "ipython3",
   "version": "3.8.8"
  }
 },
 "nbformat": 4,
 "nbformat_minor": 5
}
